{
 "cells": [
  {
   "cell_type": "code",
   "execution_count": 1,
   "id": "c2421df9",
   "metadata": {},
   "outputs": [
    {
     "name": "stderr",
     "output_type": "stream",
     "text": [
      "2023-08-16 01:12:27.324 \n",
      "  \u001b[33m\u001b[1mWarning:\u001b[0m to view this Streamlit app on a browser, run it with the following\n",
      "  command:\n",
      "\n",
      "    streamlit run C:\\Users\\Dell\\anaconda3\\lib\\site-packages\\ipykernel_launcher.py [ARGUMENTS]\n"
     ]
    }
   ],
   "source": [
    "import streamlit as st\n",
    "import pickle\n",
    "import numpy as np\n",
    "\n",
    "# Load pickled data\n",
    "with open('pt.pkl', 'rb') as pt_file:\n",
    "    pt = pickle.load(pt_file)\n",
    "with open('books.pkl', 'rb') as books_file:\n",
    "    books = pickle.load(books_file)\n",
    "with open('similarity_score.pkl', 'rb') as similarity_file:\n",
    "    similarity_score = pickle.load(similarity_file)\n",
    "\n",
    "# Streamlit UI\n",
    "st.title('Book Recommender')\n",
    "\n",
    "# User input for book name\n",
    "user_input = st.text_input('Enter a book name:', 'Book Title Here')\n",
    "\n",
    "# Find index of the input book\n",
    "try:\n",
    "    index = np.where(books['Book-Title'] == user_input)[0][0]\n",
    "    similar_items = sorted(list(enumerate(similarity_score[index])), key=lambda x: x[1], reverse=True)[1:6]\n",
    "\n",
    "    # Display similar books\n",
    "    st.header('Recommended Similar Books')\n",
    "    for i, score in similar_items:\n",
    "        book_title = books.iloc[i]['Book-Title']\n",
    "        author = books.iloc[i]['Book-Author']\n",
    "        image_url = books.iloc[i]['Image-URL-M']  # Assuming 'Image-URL-M' is the column with image URLs\n",
    "\n",
    "        # Display book details and image\n",
    "        st.write(f'{book_title} by {author}')\n",
    "        if image_url:\n",
    "            st.image(image_url, caption=book_title, use_column_width=True)\n",
    "        else:\n",
    "            st.write('Image not available')\n",
    "\n",
    "except IndexError:\n",
    "    st.warning('Book not found in the dataset.')\n",
    "\n",
    "# Note: You may want to add additional checks and validation for user input.\n"
   ]
  },
  {
   "cell_type": "code",
   "execution_count": null,
   "id": "65efec13",
   "metadata": {},
   "outputs": [],
   "source": []
  }
 ],
 "metadata": {
  "kernelspec": {
   "display_name": "Python 3 (ipykernel)",
   "language": "python",
   "name": "python3"
  },
  "language_info": {
   "codemirror_mode": {
    "name": "ipython",
    "version": 3
   },
   "file_extension": ".py",
   "mimetype": "text/x-python",
   "name": "python",
   "nbconvert_exporter": "python",
   "pygments_lexer": "ipython3",
   "version": "3.9.13"
  }
 },
 "nbformat": 4,
 "nbformat_minor": 5
}
